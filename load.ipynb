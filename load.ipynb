{
 "cells": [
  {
   "cell_type": "code",
   "execution_count": 1,
   "metadata": {
    "execution": {
     "iopub.execute_input": "2022-10-07T09:04:06.872528Z",
     "iopub.status.busy": "2022-10-07T09:04:06.871931Z",
     "iopub.status.idle": "2022-10-07T09:04:07.031815Z",
     "shell.execute_reply": "2022-10-07T09:04:07.031056Z"
    },
    "tags": []
   },
   "outputs": [],
   "source": [
    "import requests\n",
    "import os\n",
    "import shutil\n",
    "\n",
    "from PIL import Image"
   ]
  },
  {
   "cell_type": "code",
   "execution_count": 2,
   "metadata": {
    "execution": {
     "iopub.execute_input": "2022-10-07T09:04:07.041622Z",
     "iopub.status.busy": "2022-10-07T09:04:07.040990Z",
     "iopub.status.idle": "2022-10-07T09:04:07.044762Z",
     "shell.execute_reply": "2022-10-07T09:04:07.044229Z"
    }
   },
   "outputs": [],
   "source": [
    "image_dir = \"/data/load-case-1-image\"\n",
    "url = \"https://file-examples.com/storage/feb2e515cc6339d7ba1ffcd/2017/10/file_example_PNG_3MB.png\""
   ]
  },
  {
   "cell_type": "code",
   "execution_count": 3,
   "metadata": {
    "execution": {
     "iopub.execute_input": "2022-10-07T09:04:07.053812Z",
     "iopub.status.busy": "2022-10-07T09:04:07.052931Z",
     "iopub.status.idle": "2022-10-07T09:04:07.063505Z",
     "shell.execute_reply": "2022-10-07T09:04:07.062965Z"
    }
   },
   "outputs": [],
   "source": [
    "if os.path.isdir(image_dir):\n",
    "    shutil.rmtree(image_dir)\n",
    "\n",
    "os.makedirs(image_dir)"
   ]
  },
  {
   "cell_type": "code",
   "execution_count": 4,
   "metadata": {
    "execution": {
     "iopub.execute_input": "2022-10-07T09:04:07.075146Z",
     "iopub.status.busy": "2022-10-07T09:04:07.074934Z",
     "iopub.status.idle": "2022-10-07T09:04:07.078371Z",
     "shell.execute_reply": "2022-10-07T09:04:07.077816Z"
    }
   },
   "outputs": [],
   "source": [
    "img_path = os.path.join(image_dir, \"1-image.png\")"
   ]
  },
  {
   "cell_type": "code",
   "execution_count": 5,
   "metadata": {
    "execution": {
     "iopub.execute_input": "2022-10-07T09:04:07.089255Z",
     "iopub.status.busy": "2022-10-07T09:04:07.088573Z",
     "iopub.status.idle": "2022-10-07T09:04:08.317455Z",
     "shell.execute_reply": "2022-10-07T09:04:08.316547Z"
    },
    "tags": []
   },
   "outputs": [
    {
     "name": "stdout",
     "output_type": "stream",
     "text": [
      "Downloaded image from https://file-examples.com/storage/feb2e515cc6339d7ba1ffcd/2017/10/file_example_PNG_3MB.png\n"
     ]
    }
   ],
   "source": [
    "r = requests.get(url, allow_redirects=True)\n",
    "open(img_path, 'wb').write(r.content)\n",
    "print(\"Downloaded image from %s\" % url)"
   ]
  },
  {
   "cell_type": "code",
   "execution_count": 6,
   "metadata": {
    "execution": {
     "iopub.execute_input": "2022-10-07T09:04:08.336822Z",
     "iopub.status.busy": "2022-10-07T09:04:08.336067Z",
     "iopub.status.idle": "2022-10-07T09:04:56.129975Z",
     "shell.execute_reply": "2022-10-07T09:04:56.129314Z"
    },
    "tags": []
   },
   "outputs": [
    {
     "name": "stdout",
     "output_type": "stream",
     "text": [
      "2200 1467\n"
     ]
    },
    {
     "name": "stdout",
     "output_type": "stream",
     "text": [
      "Wrote new image\n",
      "(400, 400)\n"
     ]
    },
    {
     "name": "stdout",
     "output_type": "stream",
     "text": [
      "Wrote new image\n",
      "(800, 800)\n"
     ]
    },
    {
     "name": "stdout",
     "output_type": "stream",
     "text": [
      "Wrote new image\n",
      "(1200, 1200)\n"
     ]
    },
    {
     "name": "stdout",
     "output_type": "stream",
     "text": [
      "Wrote new image\n",
      "(1600, 1600)\n"
     ]
    },
    {
     "name": "stdout",
     "output_type": "stream",
     "text": [
      "Wrote new image\n",
      "(2000, 2000)\n"
     ]
    },
    {
     "name": "stdout",
     "output_type": "stream",
     "text": [
      "Wrote new image\n",
      "(2400, 2400)\n"
     ]
    },
    {
     "name": "stdout",
     "output_type": "stream",
     "text": [
      "Wrote new image\n",
      "(2800, 2800)\n"
     ]
    },
    {
     "name": "stdout",
     "output_type": "stream",
     "text": [
      "Wrote new image\n",
      "(3200, 3200)\n"
     ]
    },
    {
     "name": "stdout",
     "output_type": "stream",
     "text": [
      "Wrote new image\n",
      "(3600, 3600)\n"
     ]
    },
    {
     "name": "stdout",
     "output_type": "stream",
     "text": [
      "Wrote new image\n",
      "(4000, 4000)\n"
     ]
    },
    {
     "name": "stdout",
     "output_type": "stream",
     "text": [
      "Wrote new image\n",
      "(4400, 4400)\n"
     ]
    },
    {
     "name": "stdout",
     "output_type": "stream",
     "text": [
      "Wrote new image\n",
      "(4800, 4800)\n"
     ]
    }
   ],
   "source": [
    "# Opens a image in RGB mode\n",
    "im = Image.open(img_path)\n",
    " \n",
    "# Size of the image in pixels (size of original image)\n",
    "# (This is not mandatory)\n",
    "width, height = im.size\n",
    "print(width, height)\n",
    " \n",
    "for i in range(1, 13):\n",
    "    newsize = (400  * i, 400 * i)    \n",
    "    im1 = im.resize(newsize)\n",
    "    im1.save(img_path + (\"%s.png\" % i))\n",
    "    print(\"Wrote new image\")\n",
    "    print(newsize)"
   ]
  },
  {
   "cell_type": "code",
   "execution_count": 7,
   "metadata": {
    "execution": {
     "iopub.execute_input": "2022-10-07T09:04:56.142983Z",
     "iopub.status.busy": "2022-10-07T09:04:56.142771Z",
     "iopub.status.idle": "2022-10-07T09:04:56.155885Z",
     "shell.execute_reply": "2022-10-07T09:04:56.154853Z"
    }
   },
   "outputs": [],
   "source": [
    "# Clean up\n",
    "shutil.rmtree(image_dir)"
   ]
  }
 ],
 "metadata": {
  "kernelspec": {
   "display_name": "Python 3",
   "language": "python",
   "name": "orchest-kernel-d9b5dd08-870f-438f-8eb7-1050475a2d68"
  },
  "language_info": {
   "codemirror_mode": {
    "name": "ipython",
    "version": 3
   },
   "file_extension": ".py",
   "mimetype": "text/x-python",
   "name": "python",
   "nbconvert_exporter": "python",
   "pygments_lexer": "ipython3",
   "version": "3.9.10"
  }
 },
 "nbformat": 4,
 "nbformat_minor": 4
}
